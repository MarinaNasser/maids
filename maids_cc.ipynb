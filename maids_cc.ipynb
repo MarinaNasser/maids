{
  "nbformat": 4,
  "nbformat_minor": 0,
  "metadata": {
    "colab": {
      "provenance": []
    },
    "kernelspec": {
      "name": "python3",
      "display_name": "Python 3"
    },
    "language_info": {
      "name": "python"
    }
  },
  "cells": [
    {
      "cell_type": "markdown",
      "source": [
        "# Name: Marina Nasser Fayez\n",
        "# Email: marinanasser8@gmail.com\n"
      ],
      "metadata": {
        "id": "cJvk7KFVkdhN"
      }
    },
    {
      "cell_type": "markdown",
      "source": [
        "# Import Libraries"
      ],
      "metadata": {
        "id": "DHQfPDXjkZBM"
      }
    },
    {
      "cell_type": "code",
      "execution_count": null,
      "metadata": {
        "id": "B8ZmigTnigJ_"
      },
      "outputs": [],
      "source": [
        "import pandas as pd\n",
        "import numpy as np\n",
        "from sklearn.model_selection import train_test_split, GridSearchCV\n",
        "from sklearn.preprocessing import StandardScaler\n",
        "import matplotlib.pyplot as plt\n",
        "import seaborn as sns\n",
        "from sklearn.linear_model import LogisticRegression\n",
        "from sklearn.svm import SVC\n",
        "from sklearn.ensemble import GradientBoostingClassifier\n",
        "from sklearn.neighbors import KNeighborsClassifier\n",
        "from sklearn.metrics import confusion_matrix, classification_report, accuracy_score\n",
        "from sklearn.model_selection import cross_val_score, KFold\n"
      ]
    },
    {
      "cell_type": "markdown",
      "source": [
        "# 1. Data Preparation"
      ],
      "metadata": {
        "id": "-8IA9vMhisMS"
      }
    },
    {
      "cell_type": "markdown",
      "source": [
        "## Loading Data\n"
      ],
      "metadata": {
        "id": "88xcps2cislA"
      }
    },
    {
      "cell_type": "code",
      "source": [
        "# Correct the filename and use pd.read_excel to read Excel files\n",
        "train_data = pd.read_excel('train.xlsx')  # Assuming the correct filename is 'train.xlsx'\n",
        "test_data = pd.read_excel('test.xlsx')  # Assuming the correct filename is 'test.xlsx'\n",
        "\n",
        "# Preview the data to confirm it's loaded correctly\n",
        "print(train_data.head())\n",
        "print(test_data.head())\n"
      ],
      "metadata": {
        "colab": {
          "base_uri": "https://localhost:8080/"
        },
        "id": "KK17W5C1kw9G",
        "outputId": "40d09c3b-059c-4c32-d6ef-8112744ae9f5"
      },
      "execution_count": null,
      "outputs": [
        {
          "output_type": "stream",
          "name": "stdout",
          "text": [
            "   battery_power  blue  clock_speed  dual_sim    fc  four_g  int_memory  \\\n",
            "0            842     0          2.2         0   1.0     0.0         7.0   \n",
            "1           1021     1          0.5         1   0.0     1.0        53.0   \n",
            "2            563     1          0.5         1   2.0     1.0        41.0   \n",
            "3            615     1          2.5         0   0.0     0.0        10.0   \n",
            "4           1821     1          1.2         0  13.0     1.0        44.0   \n",
            "\n",
            "   m_dep  mobile_wt  n_cores  ...  px_height  px_width     ram  sc_h  sc_w  \\\n",
            "0    0.6      188.0      2.0  ...       20.0     756.0  2549.0   9.0   7.0   \n",
            "1    0.7      136.0      3.0  ...      905.0    1988.0  2631.0  17.0   3.0   \n",
            "2    0.9      145.0      5.0  ...     1263.0    1716.0  2603.0  11.0   2.0   \n",
            "3    0.8      131.0      6.0  ...     1216.0    1786.0  2769.0  16.0   8.0   \n",
            "4    0.6      141.0      2.0  ...     1208.0    1212.0  1411.0   8.0   2.0   \n",
            "\n",
            "   talk_time  three_g  touch_screen  wifi  price_range  \n",
            "0         19        0             0     1            1  \n",
            "1          7        1             1     0            2  \n",
            "2          9        1             1     0            2  \n",
            "3         11        1             0     0            2  \n",
            "4         15        1             1     0            1  \n",
            "\n",
            "[5 rows x 21 columns]\n",
            "   id  battery_power  blue  clock_speed  dual_sim  fc  four_g  int_memory  \\\n",
            "0   1           1043     1          1.8         1  14       0           5   \n",
            "1   2            841     1          0.5         1   4       1          61   \n",
            "2   3           1807     1          2.8         0   1       0          27   \n",
            "3   4           1546     0          0.5         1  18       1          25   \n",
            "4   5           1434     0          1.4         0  11       1          49   \n",
            "\n",
            "   m_dep  mobile_wt  ...  pc  px_height  px_width   ram  sc_h  sc_w  \\\n",
            "0    0.1        193  ...  16        226      1412  3476    12     7   \n",
            "1    0.8        191  ...  12        746       857  3895     6     0   \n",
            "2    0.9        186  ...   4       1270      1366  2396    17    10   \n",
            "3    0.5         96  ...  20        295      1752  3893    10     0   \n",
            "4    0.5        108  ...  18        749       810  1773    15     8   \n",
            "\n",
            "   talk_time  three_g  touch_screen  wifi  \n",
            "0          2        0             1     0  \n",
            "1          7        1             0     0  \n",
            "2         10        0             1     1  \n",
            "3          7        1             1     0  \n",
            "4          7        1             0     1  \n",
            "\n",
            "[5 rows x 21 columns]\n"
          ]
        }
      ]
    },
    {
      "cell_type": "code",
      "source": [
        "train_data.info()"
      ],
      "metadata": {
        "colab": {
          "base_uri": "https://localhost:8080/"
        },
        "id": "LQYbFGVk3fvW",
        "outputId": "d0952214-36ea-44ea-cc82-c7fe149bf349"
      },
      "execution_count": null,
      "outputs": [
        {
          "output_type": "stream",
          "name": "stdout",
          "text": [
            "<class 'pandas.core.frame.DataFrame'>\n",
            "RangeIndex: 2000 entries, 0 to 1999\n",
            "Data columns (total 21 columns):\n",
            " #   Column         Non-Null Count  Dtype  \n",
            "---  ------         --------------  -----  \n",
            " 0   battery_power  2000 non-null   int64  \n",
            " 1   blue           2000 non-null   int64  \n",
            " 2   clock_speed    2000 non-null   float64\n",
            " 3   dual_sim       2000 non-null   int64  \n",
            " 4   fc             1995 non-null   float64\n",
            " 5   four_g         1995 non-null   float64\n",
            " 6   int_memory     1995 non-null   float64\n",
            " 7   m_dep          1995 non-null   float64\n",
            " 8   mobile_wt      1996 non-null   float64\n",
            " 9   n_cores        1996 non-null   float64\n",
            " 10  pc             1995 non-null   float64\n",
            " 11  px_height      1996 non-null   float64\n",
            " 12  px_width       1998 non-null   float64\n",
            " 13  ram            1998 non-null   float64\n",
            " 14  sc_h           1999 non-null   float64\n",
            " 15  sc_w           1999 non-null   float64\n",
            " 16  talk_time      2000 non-null   int64  \n",
            " 17  three_g        2000 non-null   int64  \n",
            " 18  touch_screen   2000 non-null   int64  \n",
            " 19  wifi           2000 non-null   int64  \n",
            " 20  price_range    2000 non-null   int64  \n",
            "dtypes: float64(13), int64(8)\n",
            "memory usage: 328.2 KB\n"
          ]
        }
      ]
    },
    {
      "cell_type": "markdown",
      "source": [
        "## Data Cleaning:\n",
        "Handle missing values if any, and check for outliers that might affect model performance.\n"
      ],
      "metadata": {
        "id": "gGbViuqSi6xl"
      }
    },
    {
      "cell_type": "code",
      "source": [
        "# Check for missing values\n",
        "print(train_data.isnull().sum())"
      ],
      "metadata": {
        "id": "PTn5kQY9k8Hf",
        "colab": {
          "base_uri": "https://localhost:8080/"
        },
        "outputId": "67777772-4cb8-47eb-fb85-6034cd54d3b2"
      },
      "execution_count": null,
      "outputs": [
        {
          "output_type": "stream",
          "name": "stdout",
          "text": [
            "battery_power    0\n",
            "blue             0\n",
            "clock_speed      0\n",
            "dual_sim         0\n",
            "fc               5\n",
            "four_g           5\n",
            "int_memory       5\n",
            "m_dep            5\n",
            "mobile_wt        4\n",
            "n_cores          4\n",
            "pc               5\n",
            "px_height        4\n",
            "px_width         2\n",
            "ram              2\n",
            "sc_h             1\n",
            "sc_w             1\n",
            "talk_time        0\n",
            "three_g          0\n",
            "touch_screen     0\n",
            "wifi             0\n",
            "price_range      0\n",
            "dtype: int64\n"
          ]
        }
      ]
    },
    {
      "cell_type": "code",
      "source": [
        "# Fill missing values with the median for each column\n",
        "for column in ['fc', 'four_g', 'int_memory', 'm_dep', 'mobile_wt', 'n_cores', 'pc', 'px_height', 'px_width', 'ram', 'sc_h', 'sc_w']:\n",
        "    train_data[column].fillna(train_data[column].median(), inplace=True)\n",
        "\n",
        "# Verify that there are no more missing values\n",
        "print(train_data.isnull().sum())\n"
      ],
      "metadata": {
        "colab": {
          "base_uri": "https://localhost:8080/"
        },
        "id": "-qNxkocz3zQU",
        "outputId": "f40909e6-a5a9-4e7c-ca03-d24d0233f158"
      },
      "execution_count": null,
      "outputs": [
        {
          "output_type": "stream",
          "name": "stdout",
          "text": [
            "battery_power    0\n",
            "blue             0\n",
            "clock_speed      0\n",
            "dual_sim         0\n",
            "fc               0\n",
            "four_g           0\n",
            "int_memory       0\n",
            "m_dep            0\n",
            "mobile_wt        0\n",
            "n_cores          0\n",
            "pc               0\n",
            "px_height        0\n",
            "px_width         0\n",
            "ram              0\n",
            "sc_h             0\n",
            "sc_w             0\n",
            "talk_time        0\n",
            "three_g          0\n",
            "touch_screen     0\n",
            "wifi             0\n",
            "price_range      0\n",
            "dtype: int64\n"
          ]
        }
      ]
    },
    {
      "cell_type": "markdown",
      "source": [
        "# Data splitting"
      ],
      "metadata": {
        "id": "SmvOVjp1lIwk"
      }
    },
    {
      "cell_type": "code",
      "source": [
        "# Separate features and target variable\n",
        "X = train_data.drop('price_range', axis=1)\n",
        "y = train_data['price_range']\n",
        "\n",
        "# Splitting the dataset into the Training set and Test set\n",
        "X_train, X_test, y_train, y_test = train_test_split(X, y, test_size=0.2, random_state=0)\n"
      ],
      "metadata": {
        "id": "uAnJyYlLlLyc"
      },
      "execution_count": null,
      "outputs": []
    },
    {
      "cell_type": "markdown",
      "source": [
        "## Normalization/Scaling:\n",
        "Scale features like battery_power, ram, etc., as these could have different ranges."
      ],
      "metadata": {
        "id": "IE7pzqjTjDWR"
      }
    },
    {
      "cell_type": "code",
      "source": [
        "\n",
        "# Feature Scaling\n",
        "scaler = StandardScaler()\n",
        "X_train = scaler.fit_transform(X_train)\n",
        "X_test = scaler.transform(X_test)\n"
      ],
      "metadata": {
        "id": "z2D64fS3lPuQ"
      },
      "execution_count": null,
      "outputs": []
    },
    {
      "cell_type": "markdown",
      "source": [
        "# 2. Exploratory Data Analysis (EDA)"
      ],
      "metadata": {
        "id": "FFWDkC8EjLH0"
      }
    },
    {
      "cell_type": "code",
      "source": [
        "# Distribution of target variable\n",
        "sns.countplot(x='price_range', data=train_data)\n",
        "plt.title('Distribution of Price Ranges')\n",
        "plt.show()\n",
        "\n",
        "# Correlation matrix\n",
        "plt.figure(figsize=(10, 8))\n",
        "sns.heatmap(train_data.corr(), annot=False, cmap='coolwarm')\n",
        "plt.title('Correlation Matrix')\n",
        "plt.show()\n"
      ],
      "metadata": {
        "id": "tEeARcjOlBen",
        "colab": {
          "base_uri": "https://localhost:8080/",
          "height": 1000
        },
        "outputId": "8469de08-9f58-4918-aeb3-ec9cae2bd3b2"
      },
      "execution_count": null,
      "outputs": [
        {
          "output_type": "display_data",
          "data": {
            "text/plain": [
              "<Figure size 640x480 with 1 Axes>"
            ],
            "image/png": "[encoded data removed]"
          },
          "metadata": {}
        },
        {
          "output_type": "display_data",
          "data": {
            "text/plain": [
              "<Figure size 1000x800 with 2 Axes>"
            ],
            "image/png": "[encoded data removed]"
          },
          "metadata": {}
        }
      ]
    },
    {
      "cell_type": "markdown",
      "source": [
        "# 3. Model Training & evaluation\n",
        " Logistic Regression, Random Forest, Gradient Boosting Machines, and Support Vector Machines. Comment on why the selected algorithm fits the problem (e.g., Random Forest for handling non-linear data).\n"
      ],
      "metadata": {
        "id": "88nxAI_7jLKA"
      }
    },
    {
      "cell_type": "code",
      "source": [
        "# Initializing and training the Random Forest Classifier\n",
        "random_forest = RandomForestClassifier(n_estimators=100, random_state=0)\n",
        "logistic_model = LogisticRegression(max_iter=1000)\n",
        "svm_model = SVC(kernel='rbf')\n",
        "gradient_boosting_model = GradientBoostingClassifier(n_estimators=100)\n",
        "knn_model = KNeighborsClassifier(n_neighbors=5)\n",
        "\n",
        "# Function to train and evaluate a model\n",
        "def train_and_evaluate(model, X_train, y_train, X_test, y_test):\n",
        "    model.fit(X_train, y_train)\n",
        "    predictions = model.predict(X_test)\n",
        "    print(f\"Evaluating {model.__class__.__name__}\")\n",
        "    print(\"Confusion Matrix:\")\n",
        "    print(confusion_matrix(y_test, predictions))\n",
        "    print(\"Classification Report:\")\n",
        "    print(classification_report(y_test, predictions))\n",
        "    print(\"Accuracy Score:\", accuracy_score(y_test, predictions))\n",
        "    print(\"\\n\")\n",
        "\n",
        "# Train and evaluate each model\n",
        "train_and_evaluate(random_forest, X_train, y_train, X_test, y_test)\n",
        "train_and_evaluate(logistic_model, X_train, y_train, X_test, y_test)\n",
        "train_and_evaluate(svm_model, X_train, y_train, X_test, y_test)\n",
        "train_and_evaluate(gradient_boosting_model, X_train, y_train, X_test, y_test)\n",
        "train_and_evaluate(knn_model, X_train, y_train, X_test, y_test)\n"
      ],
      "metadata": {
        "id": "vwwzDgKYlYng",
        "colab": {
          "base_uri": "https://localhost:8080/"
        },
        "outputId": "39f3bd28-8d37-4192-ec55-91fab4d11bda"
      },
      "execution_count": null,
      "outputs": [
        {
          "output_type": "stream",
          "name": "stdout",
          "text": [
            "Evaluating RandomForestClassifier\n",
            "Confusion Matrix:\n",
            "[[ 92   3   0   0]\n",
            " [  7  71  14   0]\n",
            " [  0  15  77   7]\n",
            " [  0   0   8 106]]\n",
            "Classification Report:\n",
            "              precision    recall  f1-score   support\n",
            "\n",
            "           0       0.93      0.97      0.95        95\n",
            "           1       0.80      0.77      0.78        92\n",
            "           2       0.78      0.78      0.78        99\n",
            "           3       0.94      0.93      0.93       114\n",
            "\n",
            "    accuracy                           0.86       400\n",
            "   macro avg       0.86      0.86      0.86       400\n",
            "weighted avg       0.86      0.86      0.86       400\n",
            "\n",
            "Accuracy Score: 0.865\n",
            "\n",
            "\n",
            "Evaluating LogisticRegression\n",
            "Confusion Matrix:\n",
            "[[ 93   2   0   0]\n",
            " [  2  85   5   0]\n",
            " [  0   3  91   5]\n",
            " [  0   0   1 113]]\n",
            "Classification Report:\n",
            "              precision    recall  f1-score   support\n",
            "\n",
            "           0       0.98      0.98      0.98        95\n",
            "           1       0.94      0.92      0.93        92\n",
            "           2       0.94      0.92      0.93        99\n",
            "           3       0.96      0.99      0.97       114\n",
            "\n",
            "    accuracy                           0.95       400\n",
            "   macro avg       0.95      0.95      0.95       400\n",
            "weighted avg       0.95      0.95      0.95       400\n",
            "\n",
            "Accuracy Score: 0.955\n",
            "\n",
            "\n",
            "Evaluating SVC\n",
            "Confusion Matrix:\n",
            "[[ 89   6   0   0]\n",
            " [  4  81   7   0]\n",
            " [  0   9  86   4]\n",
            " [  0   0  12 102]]\n",
            "Classification Report:\n",
            "              precision    recall  f1-score   support\n",
            "\n",
            "           0       0.96      0.94      0.95        95\n",
            "           1       0.84      0.88      0.86        92\n",
            "           2       0.82      0.87      0.84        99\n",
            "           3       0.96      0.89      0.93       114\n",
            "\n",
            "    accuracy                           0.90       400\n",
            "   macro avg       0.90      0.90      0.89       400\n",
            "weighted avg       0.90      0.90      0.90       400\n",
            "\n",
            "Accuracy Score: 0.895\n",
            "\n",
            "\n",
            "Evaluating GradientBoostingClassifier\n",
            "Confusion Matrix:\n",
            "[[ 92   3   0   0]\n",
            " [  2  82   8   0]\n",
            " [  0   7  87   5]\n",
            " [  0   0   7 107]]\n",
            "Classification Report:\n",
            "              precision    recall  f1-score   support\n",
            "\n",
            "           0       0.98      0.97      0.97        95\n",
            "           1       0.89      0.89      0.89        92\n",
            "           2       0.85      0.88      0.87        99\n",
            "           3       0.96      0.94      0.95       114\n",
            "\n",
            "    accuracy                           0.92       400\n",
            "   macro avg       0.92      0.92      0.92       400\n",
            "weighted avg       0.92      0.92      0.92       400\n",
            "\n",
            "Accuracy Score: 0.92\n",
            "\n",
            "\n",
            "Evaluating KNeighborsClassifier\n",
            "Confusion Matrix:\n",
            "[[69 21  4  1]\n",
            " [30 42 13  7]\n",
            " [ 9 41 37 12]\n",
            " [ 0 10 48 56]]\n",
            "Classification Report:\n",
            "              precision    recall  f1-score   support\n",
            "\n",
            "           0       0.64      0.73      0.68        95\n",
            "           1       0.37      0.46      0.41        92\n",
            "           2       0.36      0.37      0.37        99\n",
            "           3       0.74      0.49      0.59       114\n",
            "\n",
            "    accuracy                           0.51       400\n",
            "   macro avg       0.53      0.51      0.51       400\n",
            "weighted avg       0.54      0.51      0.51       400\n",
            "\n",
            "Accuracy Score: 0.51\n",
            "\n",
            "\n"
          ]
        }
      ]
    },
    {
      "cell_type": "markdown",
      "source": [
        "\n",
        "Based on the evaluation metrics provided for the different classifiers, Logistic Regression stands out as the most effective model for this particular dataset, with an accuracy of 95.5%.\n",
        "Not only did Logistic Regression achieve high accuracy, but it also scored high across other key metrics:\n",
        "\n",
        "*   Precision: High precision indicates that the model has a low false positive rate. Logistic Regression achieved high precision across all categories, which means it was highly reliable in its positive predictions.\n",
        "*   Recall: This model also showed high recall, particularly for the higher price ranges, indicating it successfully identified most of the true positives.\n",
        "*   F1-Score: The F1-scores were high and balanced across all classes, suggesting a good balance between precision and recall."
      ],
      "metadata": {
        "id": "SfdBFrJ15URB"
      }
    },
    {
      "cell_type": "markdown",
      "source": [
        "# 5. Model Optimization\n"
      ],
      "metadata": {
        "id": "vLkXFdNgjxhl"
      }
    },
    {
      "cell_type": "markdown",
      "source": [
        "## Cross-validation"
      ],
      "metadata": {
        "id": "oP-hiVZPjLMb"
      }
    },
    {
      "cell_type": "code",
      "source": [
        "# Define the k-fold cross-validation method\n",
        "kf = KFold(n_splits=5, random_state=42, shuffle=True)\n",
        "\n",
        "# Perform cross-validation\n",
        "cv_results = cross_val_score(logistic_model, X_train, y_train, cv=kf, scoring='accuracy')\n",
        "\n",
        "# Print the results for each fold\n",
        "print(\"CV Results per fold: \", cv_results)\n",
        "print(\"Average CV Accuracy: \", cv_results.mean())"
      ],
      "metadata": {
        "colab": {
          "base_uri": "https://localhost:8080/"
        },
        "id": "2tUGTtKI6Q5b",
        "outputId": "0295492f-e8b5-4f4f-9f46-65d96e544b91"
      },
      "execution_count": null,
      "outputs": [
        {
          "output_type": "stream",
          "name": "stdout",
          "text": [
            "CV Results per fold:  [0.95     0.975    0.94375  0.9375   0.959375]\n",
            "Average CV Accuracy:  0.953125\n"
          ]
        }
      ]
    },
    {
      "cell_type": "markdown",
      "source": [
        "## Grid Search"
      ],
      "metadata": {
        "id": "3EzfGffQ60NW"
      }
    },
    {
      "cell_type": "code",
      "source": [
        "from sklearn.model_selection import GridSearchCV\n",
        "\n",
        "# Define parameter grid\n",
        "param_grid = {\n",
        "    'C': [0.01, 0.1, 1, 10, 100],\n",
        "    'solver': ['newton-cg', 'lbfgs', 'liblinear'],\n",
        "}\n",
        "\n",
        "# Create grid search object\n",
        "clf = GridSearchCV(logistic_model, param_grid=param_grid, cv=kf, scoring='accuracy')\n",
        "\n",
        "# Fit model\n",
        "clf.fit(X_train, y_train)\n",
        "\n",
        "# Best parameters and best score\n",
        "print(\"Best Parameters:\", clf.best_params_)\n",
        "print(\"Best Cross-validation Score:\", clf.best_score_)\n"
      ],
      "metadata": {
        "colab": {
          "base_uri": "https://localhost:8080/"
        },
        "id": "KnxI1Hc76vQG",
        "outputId": "17ec149c-a733-4582-f0c2-402a279f3edf"
      },
      "execution_count": null,
      "outputs": [
        {
          "output_type": "stream",
          "name": "stdout",
          "text": [
            "Best Parameters: {'C': 100, 'solver': 'newton-cg'}\n",
            "Best Cross-validation Score: 0.9706250000000001\n"
          ]
        }
      ]
    },
    {
      "cell_type": "markdown",
      "source": [
        "# Model Evaluation on Test Data"
      ],
      "metadata": {
        "id": "7C5tAlyM7KNZ"
      }
    },
    {
      "cell_type": "code",
      "source": [
        "best_model = clf.best_estimator_\n",
        "test_predictions = best_model.predict(X_test)\n",
        "print(\"Test Accuracy:\", accuracy_score(y_test, test_predictions))\n",
        "print(\"Confusion Matrix:\\n\", confusion_matrix(y_test, test_predictions))\n",
        "print(\"Classification Report:\\n\", classification_report(y_test, test_predictions))"
      ],
      "metadata": {
        "id": "jChVlxG7i3LD",
        "colab": {
          "base_uri": "https://localhost:8080/"
        },
        "outputId": "3f9a51d5-b2e3-4e36-dec0-ea33a6345882"
      },
      "execution_count": null,
      "outputs": [
        {
          "output_type": "stream",
          "name": "stdout",
          "text": [
            "Test Accuracy: 0.97\n",
            "Confusion Matrix:\n",
            " [[ 95   0   0   0]\n",
            " [  2  87   3   0]\n",
            " [  0   1  94   4]\n",
            " [  0   0   2 112]]\n",
            "Classification Report:\n",
            "               precision    recall  f1-score   support\n",
            "\n",
            "           0       0.98      1.00      0.99        95\n",
            "           1       0.99      0.95      0.97        92\n",
            "           2       0.95      0.95      0.95        99\n",
            "           3       0.97      0.98      0.97       114\n",
            "\n",
            "    accuracy                           0.97       400\n",
            "   macro avg       0.97      0.97      0.97       400\n",
            "weighted avg       0.97      0.97      0.97       400\n",
            "\n"
          ]
        }
      ]
    },
    {
      "cell_type": "code",
      "source": [],
      "metadata": {
        "id": "CzSM5V_J7GfU"
      },
      "execution_count": null,
      "outputs": []
    }
  ]
}